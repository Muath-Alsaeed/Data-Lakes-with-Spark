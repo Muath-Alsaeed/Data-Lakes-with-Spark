{
 "cells": [
  {
   "cell_type": "code",
   "execution_count": 1,
   "metadata": {
    "editable": true
   },
   "outputs": [],
   "source": [
    "import configparser\n",
    "#from datetime import datetime\n",
    "import os\n",
    "from pyspark.sql import SparkSession\n",
    "from pyspark.sql.functions import udf, col\n",
    "import pyspark.sql.functions as F\n",
    "from pyspark.sql.functions import year, month, dayofmonth, hour, weekofyear, date_format\n",
    "from pyspark.sql.types import  StructType, StructField, DoubleType, StringType, IntegerType, TimestampType\n",
    "import pandas as pd\n",
    "from datetime import datetime"
   ]
  },
  {
   "cell_type": "code",
   "execution_count": 2,
   "metadata": {
    "editable": true
   },
   "outputs": [],
   "source": [
    "from pyspark.sql.types import DateType"
   ]
  },
  {
   "cell_type": "code",
   "execution_count": 3,
   "metadata": {
    "editable": true
   },
   "outputs": [],
   "source": [
    "spark = SparkSession \\\n",
    ".builder \\\n",
    ".appName('Data_lake') \\\n",
    ".getOrCreate()"
   ]
  },
  {
   "cell_type": "code",
   "execution_count": 4,
   "metadata": {
    "editable": true
   },
   "outputs": [
    {
     "data": {
      "text/html": [
       "\n",
       "            <div>\n",
       "                <p><b>SparkSession - in-memory</b></p>\n",
       "                \n",
       "        <div>\n",
       "            <p><b>SparkContext</b></p>\n",
       "\n",
       "            <p><a href=\"http://a6cd3e0d81f1:4040\">Spark UI</a></p>\n",
       "\n",
       "            <dl>\n",
       "              <dt>Version</dt>\n",
       "                <dd><code>v2.4.3</code></dd>\n",
       "              <dt>Master</dt>\n",
       "                <dd><code>local[*]</code></dd>\n",
       "              <dt>AppName</dt>\n",
       "                <dd><code>Data_lake</code></dd>\n",
       "            </dl>\n",
       "        </div>\n",
       "        \n",
       "            </div>\n",
       "        "
      ],
      "text/plain": [
       "<pyspark.sql.session.SparkSession at 0x7fa22f2a8dd8>"
      ]
     },
     "execution_count": 4,
     "metadata": {},
     "output_type": "execute_result"
    }
   ],
   "source": [
    "spark"
   ]
  },
  {
   "cell_type": "code",
   "execution_count": 5,
   "metadata": {
    "editable": true
   },
   "outputs": [
    {
     "name": "stdout",
     "output_type": "stream",
     "text": [
      "2018-11-01-events.json\t2018-11-14-events.json\t2018-11-27-events.json\n",
      "2018-11-02-events.json\t2018-11-15-events.json\t2018-11-28-events.json\n",
      "2018-11-03-events.json\t2018-11-16-events.json\t2018-11-29-events.json\n",
      "2018-11-04-events.json\t2018-11-17-events.json\t2018-11-30-events.json\n",
      "2018-11-05-events.json\t2018-11-18-events.json\tartists_table\n",
      "2018-11-06-events.json\t2018-11-19-events.json\tlog-data.zip\n",
      "2018-11-07-events.json\t2018-11-20-events.json\tsong_data\n",
      "2018-11-08-events.json\t2018-11-21-events.json\tsong-data.zip\n",
      "2018-11-09-events.json\t2018-11-22-events.json\tsongplays_table\n",
      "2018-11-10-events.json\t2018-11-23-events.json\tsongs_table\n",
      "2018-11-11-events.json\t2018-11-24-events.json\ttime_table\n",
      "2018-11-12-events.json\t2018-11-25-events.json\tusers_table\n",
      "2018-11-13-events.json\t2018-11-26-events.json\n"
     ]
    }
   ],
   "source": [
    "!ls data"
   ]
  },
  {
   "cell_type": "code",
   "execution_count": 7,
   "metadata": {
    "editable": true
   },
   "outputs": [],
   "source": [
    "#!unzip data/song-data.zip -d data/\n",
    "#!unzip data/log-data.zip -d data/"
   ]
  },
  {
   "cell_type": "code",
   "execution_count": 8,
   "metadata": {
    "editable": true
   },
   "outputs": [
    {
     "name": "stdout",
     "output_type": "stream",
     "text": [
      "2018-11-01-events.json\t2018-11-14-events.json\t2018-11-27-events.json\n",
      "2018-11-02-events.json\t2018-11-15-events.json\t2018-11-28-events.json\n",
      "2018-11-03-events.json\t2018-11-16-events.json\t2018-11-29-events.json\n",
      "2018-11-04-events.json\t2018-11-17-events.json\t2018-11-30-events.json\n",
      "2018-11-05-events.json\t2018-11-18-events.json\tartists_table\n",
      "2018-11-06-events.json\t2018-11-19-events.json\tlog-data.zip\n",
      "2018-11-07-events.json\t2018-11-20-events.json\tsong_data\n",
      "2018-11-08-events.json\t2018-11-21-events.json\tsong-data.zip\n",
      "2018-11-09-events.json\t2018-11-22-events.json\tsongs_table\n",
      "2018-11-10-events.json\t2018-11-23-events.json\ttime_table\n",
      "2018-11-11-events.json\t2018-11-24-events.json\tusers_table\n",
      "2018-11-12-events.json\t2018-11-25-events.json\n",
      "2018-11-13-events.json\t2018-11-26-events.json\n"
     ]
    }
   ],
   "source": [
    "!ls data"
   ]
  },
  {
   "cell_type": "code",
   "execution_count": 6,
   "metadata": {
    "editable": true
   },
   "outputs": [],
   "source": [
    "song_schema = StructType([\n",
    "        StructField(\"artist_id\", StringType()),\n",
    "        StructField(\"artist_latitude\", DoubleType()),\n",
    "        StructField(\"artist_location\", StringType()),\n",
    "        StructField(\"artist_longitude\", StringType()),\n",
    "        StructField(\"artist_name\", StringType()),\n",
    "        StructField(\"duration\", DoubleType()),\n",
    "        StructField(\"num_songs\", IntegerType()),\n",
    "        StructField(\"title\", StringType()),\n",
    "        StructField(\"year\", IntegerType()),\n",
    "    ])"
   ]
  },
  {
   "cell_type": "code",
   "execution_count": 7,
   "metadata": {
    "editable": true
   },
   "outputs": [],
   "source": [
    "df = spark.read.json(\"data/song_data/A/B/C/*.json\",schema=song_schema)"
   ]
  },
  {
   "cell_type": "code",
   "execution_count": 8,
   "metadata": {
    "editable": true
   },
   "outputs": [
    {
     "name": "stdout",
     "output_type": "stream",
     "text": [
      "+------------------+---------------+--------------------+----------------+------------------+---------+---------+--------------------+----+\n",
      "|         artist_id|artist_latitude|     artist_location|artist_longitude|       artist_name| duration|num_songs|               title|year|\n",
      "+------------------+---------------+--------------------+----------------+------------------+---------+---------+--------------------+----+\n",
      "|ARNF6401187FB57032|       40.79086|New York, NY [Man...|       -73.96644| Sophie B. Hawkins|  305.162|        1|The Ballad Of Sle...|1994|\n",
      "|ARLTWXK1187FB5A3F8|       32.74863|      Fort Worth, TX|       -97.32925|       King Curtis|326.00771|        1|A Whiter Shade Of...|   0|\n",
      "|ARPFHN61187FB575F6|       41.88415|         Chicago, IL|       -87.63241|       Lupe Fiasco|279.97995|        1|Streets On Fire (...|   0|\n",
      "|AR0IAWL1187B9A96D0|         8.4177|              Panama|       -80.11278|      Danilo Perez|197.19791|        1|         Native Soul|2003|\n",
      "|ARWB3G61187FB49404|           null|      Hamilton, Ohio|            null|       Steve Morse|363.85914|        1|           Prognosis|2000|\n",
      "|AREVWGE1187B9B890A|        -13.442|           Noci (BA)|        -41.9952|        Bitter End|282.43546|        1|         Living Hell|   0|\n",
      "|ARULZCI1241B9C8611|           null|                    |            null|Luna Orbit Project|335.51628|        1|       Midnight Star|   0|\n",
      "|ARJIE2Y1187B994AB7|           null|                    |            null|       Line Renaud|152.92036|        1| Der Kleine Dompfaff|   0|\n",
      "|ARVBRGZ1187FB4675A|           null|                    |            null|      Gwen Stefani|290.55955|        1|      Harajuku Girls|2004|\n",
      "|AR8IEZO1187B99055E|           null|                    |            null|      Marc Shaiman|149.86404|        1|       City Slickers|2008|\n",
      "+------------------+---------------+--------------------+----------------+------------------+---------+---------+--------------------+----+\n",
      "only showing top 10 rows\n",
      "\n"
     ]
    }
   ],
   "source": [
    "df.show(10)"
   ]
  },
  {
   "cell_type": "code",
   "execution_count": 9,
   "metadata": {
    "editable": true
   },
   "outputs": [
    {
     "data": {
      "text/html": [
       "<div>\n",
       "<style scoped>\n",
       "    .dataframe tbody tr th:only-of-type {\n",
       "        vertical-align: middle;\n",
       "    }\n",
       "\n",
       "    .dataframe tbody tr th {\n",
       "        vertical-align: top;\n",
       "    }\n",
       "\n",
       "    .dataframe thead th {\n",
       "        text-align: right;\n",
       "    }\n",
       "</style>\n",
       "<table border=\"1\" class=\"dataframe\">\n",
       "  <thead>\n",
       "    <tr style=\"text-align: right;\">\n",
       "      <th></th>\n",
       "      <th>artist_id</th>\n",
       "      <th>artist_latitude</th>\n",
       "      <th>artist_location</th>\n",
       "      <th>artist_longitude</th>\n",
       "      <th>artist_name</th>\n",
       "      <th>duration</th>\n",
       "      <th>num_songs</th>\n",
       "      <th>title</th>\n",
       "      <th>year</th>\n",
       "    </tr>\n",
       "  </thead>\n",
       "  <tbody>\n",
       "    <tr>\n",
       "      <th>0</th>\n",
       "      <td>ARNF6401187FB57032</td>\n",
       "      <td>40.79086</td>\n",
       "      <td>New York, NY [Manhattan]</td>\n",
       "      <td>-73.96644</td>\n",
       "      <td>Sophie B. Hawkins</td>\n",
       "      <td>305.16200</td>\n",
       "      <td>1</td>\n",
       "      <td>The Ballad Of Sleeping Beauty</td>\n",
       "      <td>1994</td>\n",
       "    </tr>\n",
       "    <tr>\n",
       "      <th>1</th>\n",
       "      <td>ARLTWXK1187FB5A3F8</td>\n",
       "      <td>32.74863</td>\n",
       "      <td>Fort Worth, TX</td>\n",
       "      <td>-97.32925</td>\n",
       "      <td>King Curtis</td>\n",
       "      <td>326.00771</td>\n",
       "      <td>1</td>\n",
       "      <td>A Whiter Shade Of Pale (Live @ Fillmore West)</td>\n",
       "      <td>0</td>\n",
       "    </tr>\n",
       "    <tr>\n",
       "      <th>2</th>\n",
       "      <td>ARPFHN61187FB575F6</td>\n",
       "      <td>41.88415</td>\n",
       "      <td>Chicago, IL</td>\n",
       "      <td>-87.63241</td>\n",
       "      <td>Lupe Fiasco</td>\n",
       "      <td>279.97995</td>\n",
       "      <td>1</td>\n",
       "      <td>Streets On Fire (Explicit Album Version)</td>\n",
       "      <td>0</td>\n",
       "    </tr>\n",
       "    <tr>\n",
       "      <th>3</th>\n",
       "      <td>AR0IAWL1187B9A96D0</td>\n",
       "      <td>8.41770</td>\n",
       "      <td>Panama</td>\n",
       "      <td>-80.11278</td>\n",
       "      <td>Danilo Perez</td>\n",
       "      <td>197.19791</td>\n",
       "      <td>1</td>\n",
       "      <td>Native Soul</td>\n",
       "      <td>2003</td>\n",
       "    </tr>\n",
       "    <tr>\n",
       "      <th>4</th>\n",
       "      <td>ARWB3G61187FB49404</td>\n",
       "      <td>NaN</td>\n",
       "      <td>Hamilton, Ohio</td>\n",
       "      <td>None</td>\n",
       "      <td>Steve Morse</td>\n",
       "      <td>363.85914</td>\n",
       "      <td>1</td>\n",
       "      <td>Prognosis</td>\n",
       "      <td>2000</td>\n",
       "    </tr>\n",
       "  </tbody>\n",
       "</table>\n",
       "</div>"
      ],
      "text/plain": [
       "            artist_id  artist_latitude           artist_location  \\\n",
       "0  ARNF6401187FB57032         40.79086  New York, NY [Manhattan]   \n",
       "1  ARLTWXK1187FB5A3F8         32.74863            Fort Worth, TX   \n",
       "2  ARPFHN61187FB575F6         41.88415               Chicago, IL   \n",
       "3  AR0IAWL1187B9A96D0          8.41770                    Panama   \n",
       "4  ARWB3G61187FB49404              NaN            Hamilton, Ohio   \n",
       "\n",
       "  artist_longitude        artist_name   duration  num_songs  \\\n",
       "0        -73.96644  Sophie B. Hawkins  305.16200          1   \n",
       "1        -97.32925        King Curtis  326.00771          1   \n",
       "2        -87.63241        Lupe Fiasco  279.97995          1   \n",
       "3        -80.11278       Danilo Perez  197.19791          1   \n",
       "4             None        Steve Morse  363.85914          1   \n",
       "\n",
       "                                           title  year  \n",
       "0                  The Ballad Of Sleeping Beauty  1994  \n",
       "1  A Whiter Shade Of Pale (Live @ Fillmore West)     0  \n",
       "2       Streets On Fire (Explicit Album Version)     0  \n",
       "3                                    Native Soul  2003  \n",
       "4                                      Prognosis  2000  "
      ]
     },
     "execution_count": 9,
     "metadata": {},
     "output_type": "execute_result"
    }
   ],
   "source": [
    "df.limit(5).toPandas()"
   ]
  },
  {
   "cell_type": "code",
   "execution_count": 12,
   "metadata": {
    "editable": true
   },
   "outputs": [
    {
     "data": {
      "text/html": [
       "<div>\n",
       "<style scoped>\n",
       "    .dataframe tbody tr th:only-of-type {\n",
       "        vertical-align: middle;\n",
       "    }\n",
       "\n",
       "    .dataframe tbody tr th {\n",
       "        vertical-align: top;\n",
       "    }\n",
       "\n",
       "    .dataframe thead th {\n",
       "        text-align: right;\n",
       "    }\n",
       "</style>\n",
       "<table border=\"1\" class=\"dataframe\">\n",
       "  <thead>\n",
       "    <tr style=\"text-align: right;\">\n",
       "      <th></th>\n",
       "      <th>song_id</th>\n",
       "      <th>title</th>\n",
       "      <th>artist_id</th>\n",
       "      <th>year</th>\n",
       "      <th>duration</th>\n",
       "    </tr>\n",
       "  </thead>\n",
       "  <tbody>\n",
       "    <tr>\n",
       "      <th>0</th>\n",
       "      <td>SOGDBUF12A8C140FAA</td>\n",
       "      <td>Intro</td>\n",
       "      <td>AR558FS1187FB45658</td>\n",
       "      <td>2003</td>\n",
       "      <td>75.67628</td>\n",
       "    </tr>\n",
       "    <tr>\n",
       "      <th>1</th>\n",
       "      <td>SOINLJW12A8C13314C</td>\n",
       "      <td>City Slickers</td>\n",
       "      <td>AR8IEZO1187B99055E</td>\n",
       "      <td>2008</td>\n",
       "      <td>149.86404</td>\n",
       "    </tr>\n",
       "    <tr>\n",
       "      <th>2</th>\n",
       "      <td>SOUPIRU12A6D4FA1E1</td>\n",
       "      <td>Der Kleine Dompfaff</td>\n",
       "      <td>ARJIE2Y1187B994AB7</td>\n",
       "      <td>0</td>\n",
       "      <td>152.92036</td>\n",
       "    </tr>\n",
       "    <tr>\n",
       "      <th>3</th>\n",
       "      <td>SODAUVL12A8C13D184</td>\n",
       "      <td>Prognosis</td>\n",
       "      <td>ARWB3G61187FB49404</td>\n",
       "      <td>2000</td>\n",
       "      <td>363.85914</td>\n",
       "    </tr>\n",
       "    <tr>\n",
       "      <th>4</th>\n",
       "      <td>SOLYIBD12A8C135045</td>\n",
       "      <td>Music is what we love</td>\n",
       "      <td>AR051KA1187B98B2FF</td>\n",
       "      <td>0</td>\n",
       "      <td>261.51138</td>\n",
       "    </tr>\n",
       "  </tbody>\n",
       "</table>\n",
       "</div>"
      ],
      "text/plain": [
       "              song_id                  title           artist_id  year  \\\n",
       "0  SOGDBUF12A8C140FAA                  Intro  AR558FS1187FB45658  2003   \n",
       "1  SOINLJW12A8C13314C          City Slickers  AR8IEZO1187B99055E  2008   \n",
       "2  SOUPIRU12A6D4FA1E1    Der Kleine Dompfaff  ARJIE2Y1187B994AB7     0   \n",
       "3  SODAUVL12A8C13D184              Prognosis  ARWB3G61187FB49404  2000   \n",
       "4  SOLYIBD12A8C135045  Music is what we love  AR051KA1187B98B2FF     0   \n",
       "\n",
       "    duration  \n",
       "0   75.67628  \n",
       "1  149.86404  \n",
       "2  152.92036  \n",
       "3  363.85914  \n",
       "4  261.51138  "
      ]
     },
     "execution_count": 12,
     "metadata": {},
     "output_type": "execute_result"
    }
   ],
   "source": [
    "song_data = df.select('song_id', 'title', 'artist_id', 'year', 'duration') \\\n",
    "            .dropDuplicates()\n",
    "\n",
    "song_data.limit(5).toPandas()"
   ]
  },
  {
   "cell_type": "code",
   "execution_count": 13,
   "metadata": {
    "editable": true
   },
   "outputs": [],
   "source": [
    "#song_data = song_data.withColumn('id',F.monotonically_increasing_id())"
   ]
  },
  {
   "cell_type": "code",
   "execution_count": 14,
   "metadata": {
    "editable": true
   },
   "outputs": [
    {
     "data": {
      "text/html": [
       "<div>\n",
       "<style scoped>\n",
       "    .dataframe tbody tr th:only-of-type {\n",
       "        vertical-align: middle;\n",
       "    }\n",
       "\n",
       "    .dataframe tbody tr th {\n",
       "        vertical-align: top;\n",
       "    }\n",
       "\n",
       "    .dataframe thead th {\n",
       "        text-align: right;\n",
       "    }\n",
       "</style>\n",
       "<table border=\"1\" class=\"dataframe\">\n",
       "  <thead>\n",
       "    <tr style=\"text-align: right;\">\n",
       "      <th></th>\n",
       "      <th>song_id</th>\n",
       "      <th>title</th>\n",
       "      <th>artist_id</th>\n",
       "      <th>year</th>\n",
       "      <th>duration</th>\n",
       "    </tr>\n",
       "  </thead>\n",
       "  <tbody>\n",
       "    <tr>\n",
       "      <th>0</th>\n",
       "      <td>SOGDBUF12A8C140FAA</td>\n",
       "      <td>Intro</td>\n",
       "      <td>AR558FS1187FB45658</td>\n",
       "      <td>2003</td>\n",
       "      <td>75.67628</td>\n",
       "    </tr>\n",
       "    <tr>\n",
       "      <th>1</th>\n",
       "      <td>SOINLJW12A8C13314C</td>\n",
       "      <td>City Slickers</td>\n",
       "      <td>AR8IEZO1187B99055E</td>\n",
       "      <td>2008</td>\n",
       "      <td>149.86404</td>\n",
       "    </tr>\n",
       "    <tr>\n",
       "      <th>2</th>\n",
       "      <td>SOUPIRU12A6D4FA1E1</td>\n",
       "      <td>Der Kleine Dompfaff</td>\n",
       "      <td>ARJIE2Y1187B994AB7</td>\n",
       "      <td>0</td>\n",
       "      <td>152.92036</td>\n",
       "    </tr>\n",
       "    <tr>\n",
       "      <th>3</th>\n",
       "      <td>SODAUVL12A8C13D184</td>\n",
       "      <td>Prognosis</td>\n",
       "      <td>ARWB3G61187FB49404</td>\n",
       "      <td>2000</td>\n",
       "      <td>363.85914</td>\n",
       "    </tr>\n",
       "    <tr>\n",
       "      <th>4</th>\n",
       "      <td>SOLYIBD12A8C135045</td>\n",
       "      <td>Music is what we love</td>\n",
       "      <td>AR051KA1187B98B2FF</td>\n",
       "      <td>0</td>\n",
       "      <td>261.51138</td>\n",
       "    </tr>\n",
       "  </tbody>\n",
       "</table>\n",
       "</div>"
      ],
      "text/plain": [
       "              song_id                  title           artist_id  year  \\\n",
       "0  SOGDBUF12A8C140FAA                  Intro  AR558FS1187FB45658  2003   \n",
       "1  SOINLJW12A8C13314C          City Slickers  AR8IEZO1187B99055E  2008   \n",
       "2  SOUPIRU12A6D4FA1E1    Der Kleine Dompfaff  ARJIE2Y1187B994AB7     0   \n",
       "3  SODAUVL12A8C13D184              Prognosis  ARWB3G61187FB49404  2000   \n",
       "4  SOLYIBD12A8C135045  Music is what we love  AR051KA1187B98B2FF     0   \n",
       "\n",
       "    duration  \n",
       "0   75.67628  \n",
       "1  149.86404  \n",
       "2  152.92036  \n",
       "3  363.85914  \n",
       "4  261.51138  "
      ]
     },
     "execution_count": 14,
     "metadata": {},
     "output_type": "execute_result"
    }
   ],
   "source": [
    "song_data.limit(5).toPandas()"
   ]
  },
  {
   "cell_type": "code",
   "execution_count": 15,
   "metadata": {
    "editable": true
   },
   "outputs": [],
   "source": [
    "songs_table = song_data.write.parquet(path = 'data/songs_table' ,partitionBy = ['year','artist_id'],mode='overwrite')"
   ]
  },
  {
   "cell_type": "code",
   "execution_count": 16,
   "metadata": {
    "editable": true
   },
   "outputs": [
    {
     "data": {
      "text/html": [
       "<div>\n",
       "<style scoped>\n",
       "    .dataframe tbody tr th:only-of-type {\n",
       "        vertical-align: middle;\n",
       "    }\n",
       "\n",
       "    .dataframe tbody tr th {\n",
       "        vertical-align: top;\n",
       "    }\n",
       "\n",
       "    .dataframe thead th {\n",
       "        text-align: right;\n",
       "    }\n",
       "</style>\n",
       "<table border=\"1\" class=\"dataframe\">\n",
       "  <thead>\n",
       "    <tr style=\"text-align: right;\">\n",
       "      <th></th>\n",
       "      <th>id</th>\n",
       "      <th>artist_name</th>\n",
       "      <th>artist_location</th>\n",
       "      <th>artist_latitude</th>\n",
       "      <th>artist_longitude</th>\n",
       "    </tr>\n",
       "  </thead>\n",
       "  <tbody>\n",
       "    <tr>\n",
       "      <th>0</th>\n",
       "      <td>ARNF6401187FB57032</td>\n",
       "      <td>Sophie B. Hawkins</td>\n",
       "      <td>New York, NY [Manhattan]</td>\n",
       "      <td>40.79086</td>\n",
       "      <td>-73.96644</td>\n",
       "    </tr>\n",
       "    <tr>\n",
       "      <th>1</th>\n",
       "      <td>AR0IAWL1187B9A96D0</td>\n",
       "      <td>Danilo Perez</td>\n",
       "      <td>Panama</td>\n",
       "      <td>8.41770</td>\n",
       "      <td>-80.11278</td>\n",
       "    </tr>\n",
       "    <tr>\n",
       "      <th>2</th>\n",
       "      <td>ARJIE2Y1187B994AB7</td>\n",
       "      <td>Line Renaud</td>\n",
       "      <td></td>\n",
       "      <td>NaN</td>\n",
       "      <td>NaN</td>\n",
       "    </tr>\n",
       "    <tr>\n",
       "      <th>3</th>\n",
       "      <td>AR051KA1187B98B2FF</td>\n",
       "      <td>Wilks</td>\n",
       "      <td></td>\n",
       "      <td>NaN</td>\n",
       "      <td>NaN</td>\n",
       "    </tr>\n",
       "    <tr>\n",
       "      <th>4</th>\n",
       "      <td>ARPFHN61187FB575F6</td>\n",
       "      <td>Lupe Fiasco</td>\n",
       "      <td>Chicago, IL</td>\n",
       "      <td>41.88415</td>\n",
       "      <td>-87.63241</td>\n",
       "    </tr>\n",
       "    <tr>\n",
       "      <th>5</th>\n",
       "      <td>AREVWGE1187B9B890A</td>\n",
       "      <td>Bitter End</td>\n",
       "      <td>Noci (BA)</td>\n",
       "      <td>-13.44200</td>\n",
       "      <td>-41.99520</td>\n",
       "    </tr>\n",
       "    <tr>\n",
       "      <th>6</th>\n",
       "      <td>ARULZCI1241B9C8611</td>\n",
       "      <td>Luna Orbit Project</td>\n",
       "      <td></td>\n",
       "      <td>NaN</td>\n",
       "      <td>NaN</td>\n",
       "    </tr>\n",
       "    <tr>\n",
       "      <th>7</th>\n",
       "      <td>ARLTWXK1187FB5A3F8</td>\n",
       "      <td>King Curtis</td>\n",
       "      <td>Fort Worth, TX</td>\n",
       "      <td>32.74863</td>\n",
       "      <td>-97.32925</td>\n",
       "    </tr>\n",
       "    <tr>\n",
       "      <th>8</th>\n",
       "      <td>AR8IEZO1187B99055E</td>\n",
       "      <td>Marc Shaiman</td>\n",
       "      <td></td>\n",
       "      <td>NaN</td>\n",
       "      <td>NaN</td>\n",
       "    </tr>\n",
       "    <tr>\n",
       "      <th>9</th>\n",
       "      <td>ARWB3G61187FB49404</td>\n",
       "      <td>Steve Morse</td>\n",
       "      <td>Hamilton, Ohio</td>\n",
       "      <td>NaN</td>\n",
       "      <td>NaN</td>\n",
       "    </tr>\n",
       "  </tbody>\n",
       "</table>\n",
       "</div>"
      ],
      "text/plain": [
       "                   id         artist_name           artist_location  \\\n",
       "0  ARNF6401187FB57032   Sophie B. Hawkins  New York, NY [Manhattan]   \n",
       "1  AR0IAWL1187B9A96D0        Danilo Perez                    Panama   \n",
       "2  ARJIE2Y1187B994AB7         Line Renaud                             \n",
       "3  AR051KA1187B98B2FF               Wilks                             \n",
       "4  ARPFHN61187FB575F6         Lupe Fiasco               Chicago, IL   \n",
       "5  AREVWGE1187B9B890A          Bitter End                 Noci (BA)   \n",
       "6  ARULZCI1241B9C8611  Luna Orbit Project                             \n",
       "7  ARLTWXK1187FB5A3F8         King Curtis            Fort Worth, TX   \n",
       "8  AR8IEZO1187B99055E        Marc Shaiman                             \n",
       "9  ARWB3G61187FB49404         Steve Morse            Hamilton, Ohio   \n",
       "\n",
       "   artist_latitude  artist_longitude  \n",
       "0         40.79086         -73.96644  \n",
       "1          8.41770         -80.11278  \n",
       "2              NaN               NaN  \n",
       "3              NaN               NaN  \n",
       "4         41.88415         -87.63241  \n",
       "5        -13.44200         -41.99520  \n",
       "6              NaN               NaN  \n",
       "7         32.74863         -97.32925  \n",
       "8              NaN               NaN  \n",
       "9              NaN               NaN  "
      ]
     },
     "execution_count": 16,
     "metadata": {},
     "output_type": "execute_result"
    }
   ],
   "source": [
    "artists_table = df.selectExpr('artist_id as id', 'artist_name', 'artist_location',         'artist_latitude', 'artist_longitude') \\\n",
    "    .dropDuplicates()\n",
    "artists_table.limit(10).toPandas()"
   ]
  },
  {
   "cell_type": "code",
   "execution_count": 17,
   "metadata": {
    "editable": true
   },
   "outputs": [],
   "source": [
    "artists_table = artists_table.write.parquet(path='data/artists_table',mode = 'overwrite')"
   ]
  },
  {
   "cell_type": "code",
   "execution_count": 18,
   "metadata": {
    "editable": true
   },
   "outputs": [
    {
     "name": "stdout",
     "output_type": "stream",
     "text": [
      "+-----------+----------+---------+------+-------------+--------+---------+-----+--------------------+------+--------+-----------------+---------+--------------------+------+-------------+--------------------+------+\n",
      "|     artist|      auth|firstName|gender|itemInSession|lastName|   length|level|            location|method|    page|     registration|sessionId|                song|status|           ts|           userAgent|userId|\n",
      "+-----------+----------+---------+------+-------------+--------+---------+-----+--------------------+------+--------+-----------------+---------+--------------------+------+-------------+--------------------+------+\n",
      "|   Harmonia| Logged In|     Ryan|     M|            0|   Smith|655.77751| free|San Jose-Sunnyval...|   PUT|NextSong|1.541016707796E12|      583|       Sehr kosmisch|   200|1542241826796|\"Mozilla/5.0 (X11...|    26|\n",
      "|The Prodigy| Logged In|     Ryan|     M|            1|   Smith|260.07465| free|San Jose-Sunnyval...|   PUT|NextSong|1.541016707796E12|      583|     The Big Gundown|   200|1542242481796|\"Mozilla/5.0 (X11...|    26|\n",
      "|      Train| Logged In|     Ryan|     M|            2|   Smith|205.45261| free|San Jose-Sunnyval...|   PUT|NextSong|1.541016707796E12|      583|            Marry Me|   200|1542242741796|\"Mozilla/5.0 (X11...|    26|\n",
      "|       null| Logged In|    Wyatt|     M|            0|   Scott|     null| free|Eureka-Arcata-For...|   GET|    Home|1.540872073796E12|      563|                null|   200|1542247071796|Mozilla/5.0 (Wind...|     9|\n",
      "|       null| Logged In|   Austin|     M|            0| Rosales|     null| free|New York-Newark-J...|   GET|    Home|1.541059521796E12|      521|                null|   200|1542252577796|Mozilla/5.0 (Wind...|    12|\n",
      "|Sony Wonder| Logged In|   Samuel|     M|            0|Gonzalez|218.06975| free|Houston-The Woodl...|   PUT|NextSong|1.540492941796E12|      597|           Blackbird|   200|1542253449796|\"Mozilla/5.0 (Mac...|    61|\n",
      "|       null| Logged In|   Samuel|     M|            1|Gonzalez|     null| free|Houston-The Woodl...|   GET|   About|1.540492941796E12|      597|                null|   200|1542253460796|\"Mozilla/5.0 (Mac...|    61|\n",
      "|       null|Logged Out|     null|  null|            0|    null|     null| paid|                null|   PUT|   Login|             null|      602|                null|   307|1542260074796|                null|      |\n",
      "|       null| Logged In|    Tegan|     F|            1|  Levine|     null| paid|Portland-South Po...|   GET|    Home|1.540794356796E12|      602|                null|   200|1542260277796|\"Mozilla/5.0 (Mac...|    80|\n",
      "|  Van Halen| Logged In|    Tegan|     F|            2|  Levine|289.38404| paid|Portland-South Po...|   PUT|NextSong|1.540794356796E12|      602|Best Of Both Worl...|   200|1542260935796|\"Mozilla/5.0 (Mac...|    80|\n",
      "+-----------+----------+---------+------+-------------+--------+---------+-----+--------------------+------+--------+-----------------+---------+--------------------+------+-------------+--------------------+------+\n",
      "only showing top 10 rows\n",
      "\n"
     ]
    }
   ],
   "source": [
    "df2 = spark.read.json('data/*.json')\n",
    "df2.show(10)"
   ]
  },
  {
   "cell_type": "code",
   "execution_count": 19,
   "metadata": {
    "editable": true
   },
   "outputs": [
    {
     "data": {
      "text/plain": [
       "['artist',\n",
       " 'auth',\n",
       " 'firstName',\n",
       " 'gender',\n",
       " 'itemInSession',\n",
       " 'lastName',\n",
       " 'length',\n",
       " 'level',\n",
       " 'location',\n",
       " 'method',\n",
       " 'page',\n",
       " 'registration',\n",
       " 'sessionId',\n",
       " 'song',\n",
       " 'status',\n",
       " 'ts',\n",
       " 'userAgent',\n",
       " 'userId']"
      ]
     },
     "execution_count": 19,
     "metadata": {},
     "output_type": "execute_result"
    }
   ],
   "source": [
    "df2.columns"
   ]
  },
  {
   "cell_type": "code",
   "execution_count": 20,
   "metadata": {
    "editable": true
   },
   "outputs": [
    {
     "name": "stdout",
     "output_type": "stream",
     "text": [
      "+----------------+\n",
      "|            page|\n",
      "+----------------+\n",
      "|Submit Downgrade|\n",
      "|            Home|\n",
      "|       Downgrade|\n",
      "|          Logout|\n",
      "|   Save Settings|\n",
      "|           About|\n",
      "|        Settings|\n",
      "|           Login|\n",
      "|        NextSong|\n",
      "|            Help|\n",
      "|         Upgrade|\n",
      "|           Error|\n",
      "|  Submit Upgrade|\n",
      "+----------------+\n",
      "\n"
     ]
    }
   ],
   "source": [
    "df2.select('page').dropDuplicates().show()"
   ]
  },
  {
   "cell_type": "code",
   "execution_count": 21,
   "metadata": {
    "editable": true
   },
   "outputs": [],
   "source": [
    "df2 = df2.filter(\"page = 'NextSong'\")"
   ]
  },
  {
   "cell_type": "code",
   "execution_count": 28,
   "metadata": {
    "editable": true
   },
   "outputs": [],
   "source": [
    "get_timestamp = udf(lambda x: int(int(x)/1000),IntegerType())"
   ]
  },
  {
   "cell_type": "code",
   "execution_count": 29,
   "metadata": {
    "editable": true
   },
   "outputs": [],
   "source": [
    "df2 = df2.withColumn('TimeSatamp', get_timestamp(df2.ts))"
   ]
  },
  {
   "cell_type": "code",
   "execution_count": 30,
   "metadata": {
    "editable": true
   },
   "outputs": [],
   "source": [
    "get_datetime = udf(lambda x: str(datetime.fromtimestamp(int(x) / 1000)))\n",
    "df2 = df2.withColumn('start_time', get_datetime(df2.ts))"
   ]
  },
  {
   "cell_type": "code",
   "execution_count": 38,
   "metadata": {
    "editable": true
   },
   "outputs": [
    {
     "data": {
      "text/html": [
       "<div>\n",
       "<style scoped>\n",
       "    .dataframe tbody tr th:only-of-type {\n",
       "        vertical-align: middle;\n",
       "    }\n",
       "\n",
       "    .dataframe tbody tr th {\n",
       "        vertical-align: top;\n",
       "    }\n",
       "\n",
       "    .dataframe thead th {\n",
       "        text-align: right;\n",
       "    }\n",
       "</style>\n",
       "<table border=\"1\" class=\"dataframe\">\n",
       "  <thead>\n",
       "    <tr style=\"text-align: right;\">\n",
       "      <th></th>\n",
       "      <th>start_time</th>\n",
       "      <th>hour</th>\n",
       "      <th>day</th>\n",
       "      <th>week</th>\n",
       "      <th>month</th>\n",
       "      <th>year</th>\n",
       "      <th>weekday</th>\n",
       "    </tr>\n",
       "  </thead>\n",
       "  <tbody>\n",
       "    <tr>\n",
       "      <th>0</th>\n",
       "      <td>2018-11-15 16:14:28.796000</td>\n",
       "      <td>16</td>\n",
       "      <td>15</td>\n",
       "      <td>46</td>\n",
       "      <td>11</td>\n",
       "      <td>2018</td>\n",
       "      <td>5</td>\n",
       "    </tr>\n",
       "    <tr>\n",
       "      <th>1</th>\n",
       "      <td>2018-11-15 19:46:21.796000</td>\n",
       "      <td>19</td>\n",
       "      <td>15</td>\n",
       "      <td>46</td>\n",
       "      <td>11</td>\n",
       "      <td>2018</td>\n",
       "      <td>5</td>\n",
       "    </tr>\n",
       "    <tr>\n",
       "      <th>2</th>\n",
       "      <td>2018-11-15 22:03:36.796000</td>\n",
       "      <td>22</td>\n",
       "      <td>15</td>\n",
       "      <td>46</td>\n",
       "      <td>11</td>\n",
       "      <td>2018</td>\n",
       "      <td>5</td>\n",
       "    </tr>\n",
       "    <tr>\n",
       "      <th>3</th>\n",
       "      <td>2018-11-14 08:10:16.796000</td>\n",
       "      <td>8</td>\n",
       "      <td>14</td>\n",
       "      <td>46</td>\n",
       "      <td>11</td>\n",
       "      <td>2018</td>\n",
       "      <td>4</td>\n",
       "    </tr>\n",
       "    <tr>\n",
       "      <th>4</th>\n",
       "      <td>2018-11-14 09:26:21.796000</td>\n",
       "      <td>9</td>\n",
       "      <td>14</td>\n",
       "      <td>46</td>\n",
       "      <td>11</td>\n",
       "      <td>2018</td>\n",
       "      <td>4</td>\n",
       "    </tr>\n",
       "    <tr>\n",
       "      <th>5</th>\n",
       "      <td>2018-11-28 21:12:51.796000</td>\n",
       "      <td>21</td>\n",
       "      <td>28</td>\n",
       "      <td>48</td>\n",
       "      <td>11</td>\n",
       "      <td>2018</td>\n",
       "      <td>4</td>\n",
       "    </tr>\n",
       "    <tr>\n",
       "      <th>6</th>\n",
       "      <td>2018-11-28 23:08:15.796000</td>\n",
       "      <td>23</td>\n",
       "      <td>28</td>\n",
       "      <td>48</td>\n",
       "      <td>11</td>\n",
       "      <td>2018</td>\n",
       "      <td>4</td>\n",
       "    </tr>\n",
       "    <tr>\n",
       "      <th>7</th>\n",
       "      <td>2018-11-05 15:48:00.796000</td>\n",
       "      <td>15</td>\n",
       "      <td>5</td>\n",
       "      <td>45</td>\n",
       "      <td>11</td>\n",
       "      <td>2018</td>\n",
       "      <td>2</td>\n",
       "    </tr>\n",
       "    <tr>\n",
       "      <th>8</th>\n",
       "      <td>2018-11-05 18:01:19.796000</td>\n",
       "      <td>18</td>\n",
       "      <td>5</td>\n",
       "      <td>45</td>\n",
       "      <td>11</td>\n",
       "      <td>2018</td>\n",
       "      <td>2</td>\n",
       "    </tr>\n",
       "    <tr>\n",
       "      <th>9</th>\n",
       "      <td>2018-11-05 18:09:25.796000</td>\n",
       "      <td>18</td>\n",
       "      <td>5</td>\n",
       "      <td>45</td>\n",
       "      <td>11</td>\n",
       "      <td>2018</td>\n",
       "      <td>2</td>\n",
       "    </tr>\n",
       "  </tbody>\n",
       "</table>\n",
       "</div>"
      ],
      "text/plain": [
       "                   start_time  hour  day  week  month  year  weekday\n",
       "0  2018-11-15 16:14:28.796000    16   15    46     11  2018        5\n",
       "1  2018-11-15 19:46:21.796000    19   15    46     11  2018        5\n",
       "2  2018-11-15 22:03:36.796000    22   15    46     11  2018        5\n",
       "3  2018-11-14 08:10:16.796000     8   14    46     11  2018        4\n",
       "4  2018-11-14 09:26:21.796000     9   14    46     11  2018        4\n",
       "5  2018-11-28 21:12:51.796000    21   28    48     11  2018        4\n",
       "6  2018-11-28 23:08:15.796000    23   28    48     11  2018        4\n",
       "7  2018-11-05 15:48:00.796000    15    5    45     11  2018        2\n",
       "8  2018-11-05 18:01:19.796000    18    5    45     11  2018        2\n",
       "9  2018-11-05 18:09:25.796000    18    5    45     11  2018        2"
      ]
     },
     "execution_count": 38,
     "metadata": {},
     "output_type": "execute_result"
    }
   ],
   "source": [
    "time_table.limit(10).toPandas()"
   ]
  },
  {
   "cell_type": "code",
   "execution_count": 37,
   "metadata": {
    "editable": true
   },
   "outputs": [],
   "source": [
    "time_table =  df2.select('start_time')\\\n",
    "                           .withColumn('hour', F.hour('start_time')) \\\n",
    "                           .withColumn('day', F.dayofmonth('start_time')) \\\n",
    "                           .withColumn('week', F.weekofyear('start_time')) \\\n",
    "                           .withColumn('month', F.month('start_time')) \\\n",
    "                           .withColumn('year', F.year('start_time')) \\\n",
    "                           .withColumn('weekday', F.dayofweek('start_time')) \\\n",
    "                           .dropDuplicates()"
   ]
  },
  {
   "cell_type": "code",
   "execution_count": 29,
   "metadata": {
    "editable": true
   },
   "outputs": [],
   "source": [
    "time_table.write.parquet(path='data/time_table',partitionBy = ['year','month'],mode = 'overwrite')"
   ]
  },
  {
   "cell_type": "code",
   "execution_count": 30,
   "metadata": {
    "editable": true
   },
   "outputs": [
    {
     "data": {
      "text/plain": [
       "['artist_id',\n",
       " 'artist_latitude',\n",
       " 'artist_location',\n",
       " 'artist_longitude',\n",
       " 'artist_name',\n",
       " 'duration',\n",
       " 'num_songs',\n",
       " 'song_id',\n",
       " 'title',\n",
       " 'year']"
      ]
     },
     "execution_count": 30,
     "metadata": {},
     "output_type": "execute_result"
    }
   ],
   "source": [
    "df.columns\n"
   ]
  },
  {
   "cell_type": "code",
   "execution_count": 40,
   "metadata": {
    "editable": true
   },
   "outputs": [
    {
     "data": {
      "text/plain": [
       "['artist',\n",
       " 'auth',\n",
       " 'firstName',\n",
       " 'gender',\n",
       " 'itemInSession',\n",
       " 'lastName',\n",
       " 'length',\n",
       " 'level',\n",
       " 'location',\n",
       " 'method',\n",
       " 'page',\n",
       " 'registration',\n",
       " 'sessionId',\n",
       " 'song',\n",
       " 'status',\n",
       " 'ts',\n",
       " 'userAgent',\n",
       " 'userId',\n",
       " 'TimeSatamp',\n",
       " 'start_time']"
      ]
     },
     "execution_count": 40,
     "metadata": {},
     "output_type": "execute_result"
    }
   ],
   "source": [
    "df2.columns\n"
   ]
  },
  {
   "cell_type": "code",
   "execution_count": 41,
   "metadata": {
    "editable": true
   },
   "outputs": [
    {
     "data": {
      "text/plain": [
       "['song_id', 'artist_id', 'artist_name']"
      ]
     },
     "execution_count": 41,
     "metadata": {},
     "output_type": "execute_result"
    }
   ],
   "source": [
    "song = df.select('song_id','artist_id','artist_name')\n",
    "\n",
    "song.columns"
   ]
  },
  {
   "cell_type": "code",
   "execution_count": 42,
   "metadata": {
    "editable": true
   },
   "outputs": [
    {
     "data": {
      "text/plain": [
       "['start_time',\n",
       " 'userId',\n",
       " 'level',\n",
       " 'sessionId',\n",
       " 'location',\n",
       " 'userAgent',\n",
       " 'artist_name']"
      ]
     },
     "execution_count": 42,
     "metadata": {},
     "output_type": "execute_result"
    }
   ],
   "source": [
    "log = df2.selectExpr('start_time','userId','level','sessionId','location','userAgent','artist as artist_name')\n",
    "log.columns\n"
   ]
  },
  {
   "cell_type": "code",
   "execution_count": 43,
   "metadata": {
    "editable": true
   },
   "outputs": [
    {
     "data": {
      "text/html": [
       "<div>\n",
       "<style scoped>\n",
       "    .dataframe tbody tr th:only-of-type {\n",
       "        vertical-align: middle;\n",
       "    }\n",
       "\n",
       "    .dataframe tbody tr th {\n",
       "        vertical-align: top;\n",
       "    }\n",
       "\n",
       "    .dataframe thead th {\n",
       "        text-align: right;\n",
       "    }\n",
       "</style>\n",
       "<table border=\"1\" class=\"dataframe\">\n",
       "  <thead>\n",
       "    <tr style=\"text-align: right;\">\n",
       "      <th></th>\n",
       "      <th>song_id</th>\n",
       "      <th>artist_id</th>\n",
       "      <th>artist_name</th>\n",
       "    </tr>\n",
       "  </thead>\n",
       "  <tbody>\n",
       "    <tr>\n",
       "      <th>0</th>\n",
       "      <td>SONWXQJ12A8C134D94</td>\n",
       "      <td>ARNF6401187FB57032</td>\n",
       "      <td>Sophie B. Hawkins</td>\n",
       "    </tr>\n",
       "    <tr>\n",
       "      <th>1</th>\n",
       "      <td>SODREIN12A58A7F2E5</td>\n",
       "      <td>ARLTWXK1187FB5A3F8</td>\n",
       "      <td>King Curtis</td>\n",
       "    </tr>\n",
       "    <tr>\n",
       "      <th>2</th>\n",
       "      <td>SOWQTQZ12A58A7B63E</td>\n",
       "      <td>ARPFHN61187FB575F6</td>\n",
       "      <td>Lupe Fiasco</td>\n",
       "    </tr>\n",
       "    <tr>\n",
       "      <th>3</th>\n",
       "      <td>SONSKXP12A8C13A2C9</td>\n",
       "      <td>AR0IAWL1187B9A96D0</td>\n",
       "      <td>Danilo Perez</td>\n",
       "    </tr>\n",
       "    <tr>\n",
       "      <th>4</th>\n",
       "      <td>SODAUVL12A8C13D184</td>\n",
       "      <td>ARWB3G61187FB49404</td>\n",
       "      <td>Steve Morse</td>\n",
       "    </tr>\n",
       "    <tr>\n",
       "      <th>5</th>\n",
       "      <td>SOFCHDR12AB01866EF</td>\n",
       "      <td>AREVWGE1187B9B890A</td>\n",
       "      <td>Bitter End</td>\n",
       "    </tr>\n",
       "    <tr>\n",
       "      <th>6</th>\n",
       "      <td>SOSWKAV12AB018FC91</td>\n",
       "      <td>ARULZCI1241B9C8611</td>\n",
       "      <td>Luna Orbit Project</td>\n",
       "    </tr>\n",
       "    <tr>\n",
       "      <th>7</th>\n",
       "      <td>SOUPIRU12A6D4FA1E1</td>\n",
       "      <td>ARJIE2Y1187B994AB7</td>\n",
       "      <td>Line Renaud</td>\n",
       "    </tr>\n",
       "    <tr>\n",
       "      <th>8</th>\n",
       "      <td>SORRZGD12A6310DBC3</td>\n",
       "      <td>ARVBRGZ1187FB4675A</td>\n",
       "      <td>Gwen Stefani</td>\n",
       "    </tr>\n",
       "    <tr>\n",
       "      <th>9</th>\n",
       "      <td>SOINLJW12A8C13314C</td>\n",
       "      <td>AR8IEZO1187B99055E</td>\n",
       "      <td>Marc Shaiman</td>\n",
       "    </tr>\n",
       "    <tr>\n",
       "      <th>10</th>\n",
       "      <td>SOLYIBD12A8C135045</td>\n",
       "      <td>AR051KA1187B98B2FF</td>\n",
       "      <td>Wilks</td>\n",
       "    </tr>\n",
       "    <tr>\n",
       "      <th>11</th>\n",
       "      <td>SOGDBUF12A8C140FAA</td>\n",
       "      <td>AR558FS1187FB45658</td>\n",
       "      <td>40 Grit</td>\n",
       "    </tr>\n",
       "  </tbody>\n",
       "</table>\n",
       "</div>"
      ],
      "text/plain": [
       "               song_id           artist_id         artist_name\n",
       "0   SONWXQJ12A8C134D94  ARNF6401187FB57032   Sophie B. Hawkins\n",
       "1   SODREIN12A58A7F2E5  ARLTWXK1187FB5A3F8         King Curtis\n",
       "2   SOWQTQZ12A58A7B63E  ARPFHN61187FB575F6         Lupe Fiasco\n",
       "3   SONSKXP12A8C13A2C9  AR0IAWL1187B9A96D0        Danilo Perez\n",
       "4   SODAUVL12A8C13D184  ARWB3G61187FB49404         Steve Morse\n",
       "5   SOFCHDR12AB01866EF  AREVWGE1187B9B890A          Bitter End\n",
       "6   SOSWKAV12AB018FC91  ARULZCI1241B9C8611  Luna Orbit Project\n",
       "7   SOUPIRU12A6D4FA1E1  ARJIE2Y1187B994AB7         Line Renaud\n",
       "8   SORRZGD12A6310DBC3  ARVBRGZ1187FB4675A        Gwen Stefani\n",
       "9   SOINLJW12A8C13314C  AR8IEZO1187B99055E        Marc Shaiman\n",
       "10  SOLYIBD12A8C135045  AR051KA1187B98B2FF               Wilks\n",
       "11  SOGDBUF12A8C140FAA  AR558FS1187FB45658             40 Grit"
      ]
     },
     "execution_count": 43,
     "metadata": {},
     "output_type": "execute_result"
    }
   ],
   "source": [
    "song.limit(15).toPandas()"
   ]
  },
  {
   "cell_type": "code",
   "execution_count": 50,
   "metadata": {
    "editable": true
   },
   "outputs": [
    {
     "data": {
      "text/html": [
       "<div>\n",
       "<style scoped>\n",
       "    .dataframe tbody tr th:only-of-type {\n",
       "        vertical-align: middle;\n",
       "    }\n",
       "\n",
       "    .dataframe tbody tr th {\n",
       "        vertical-align: top;\n",
       "    }\n",
       "\n",
       "    .dataframe thead th {\n",
       "        text-align: right;\n",
       "    }\n",
       "</style>\n",
       "<table border=\"1\" class=\"dataframe\">\n",
       "  <thead>\n",
       "    <tr style=\"text-align: right;\">\n",
       "      <th></th>\n",
       "      <th>start_time</th>\n",
       "      <th>userId</th>\n",
       "      <th>level</th>\n",
       "      <th>sessionId</th>\n",
       "      <th>location</th>\n",
       "      <th>userAgent</th>\n",
       "      <th>artist_name</th>\n",
       "    </tr>\n",
       "  </thead>\n",
       "  <tbody>\n",
       "    <tr>\n",
       "      <th>0</th>\n",
       "      <td>2018-11-15 00:30:26.796000</td>\n",
       "      <td>26</td>\n",
       "      <td>free</td>\n",
       "      <td>583</td>\n",
       "      <td>San Jose-Sunnyvale-Santa Clara, CA</td>\n",
       "      <td>\"Mozilla/5.0 (X11; Linux x86_64) AppleWebKit/5...</td>\n",
       "      <td>Harmonia</td>\n",
       "    </tr>\n",
       "    <tr>\n",
       "      <th>1</th>\n",
       "      <td>2018-11-15 00:41:21.796000</td>\n",
       "      <td>26</td>\n",
       "      <td>free</td>\n",
       "      <td>583</td>\n",
       "      <td>San Jose-Sunnyvale-Santa Clara, CA</td>\n",
       "      <td>\"Mozilla/5.0 (X11; Linux x86_64) AppleWebKit/5...</td>\n",
       "      <td>The Prodigy</td>\n",
       "    </tr>\n",
       "    <tr>\n",
       "      <th>2</th>\n",
       "      <td>2018-11-15 00:45:41.796000</td>\n",
       "      <td>26</td>\n",
       "      <td>free</td>\n",
       "      <td>583</td>\n",
       "      <td>San Jose-Sunnyvale-Santa Clara, CA</td>\n",
       "      <td>\"Mozilla/5.0 (X11; Linux x86_64) AppleWebKit/5...</td>\n",
       "      <td>Train</td>\n",
       "    </tr>\n",
       "    <tr>\n",
       "      <th>3</th>\n",
       "      <td>2018-11-15 03:44:09.796000</td>\n",
       "      <td>61</td>\n",
       "      <td>free</td>\n",
       "      <td>597</td>\n",
       "      <td>Houston-The Woodlands-Sugar Land, TX</td>\n",
       "      <td>\"Mozilla/5.0 (Macintosh; Intel Mac OS X 10_9_4...</td>\n",
       "      <td>Sony Wonder</td>\n",
       "    </tr>\n",
       "    <tr>\n",
       "      <th>4</th>\n",
       "      <td>2018-11-15 05:48:55.796000</td>\n",
       "      <td>80</td>\n",
       "      <td>paid</td>\n",
       "      <td>602</td>\n",
       "      <td>Portland-South Portland, ME</td>\n",
       "      <td>\"Mozilla/5.0 (Macintosh; Intel Mac OS X 10_9_4...</td>\n",
       "      <td>Van Halen</td>\n",
       "    </tr>\n",
       "    <tr>\n",
       "      <th>5</th>\n",
       "      <td>2018-11-15 05:53:44.796000</td>\n",
       "      <td>80</td>\n",
       "      <td>paid</td>\n",
       "      <td>602</td>\n",
       "      <td>Portland-South Portland, ME</td>\n",
       "      <td>\"Mozilla/5.0 (Macintosh; Intel Mac OS X 10_9_4...</td>\n",
       "      <td>Magic Sam</td>\n",
       "    </tr>\n",
       "    <tr>\n",
       "      <th>6</th>\n",
       "      <td>2018-11-15 05:55:56.796000</td>\n",
       "      <td>80</td>\n",
       "      <td>paid</td>\n",
       "      <td>602</td>\n",
       "      <td>Portland-South Portland, ME</td>\n",
       "      <td>\"Mozilla/5.0 (Macintosh; Intel Mac OS X 10_9_4...</td>\n",
       "      <td>Edward Sharpe &amp; The Magnetic Zeros</td>\n",
       "    </tr>\n",
       "    <tr>\n",
       "      <th>7</th>\n",
       "      <td>2018-11-15 06:01:02.796000</td>\n",
       "      <td>80</td>\n",
       "      <td>paid</td>\n",
       "      <td>602</td>\n",
       "      <td>Portland-South Portland, ME</td>\n",
       "      <td>\"Mozilla/5.0 (Macintosh; Intel Mac OS X 10_9_4...</td>\n",
       "      <td>Usher featuring will.i.am</td>\n",
       "    </tr>\n",
       "    <tr>\n",
       "      <th>8</th>\n",
       "      <td>2018-11-15 06:07:37.796000</td>\n",
       "      <td>80</td>\n",
       "      <td>paid</td>\n",
       "      <td>602</td>\n",
       "      <td>Portland-South Portland, ME</td>\n",
       "      <td>\"Mozilla/5.0 (Macintosh; Intel Mac OS X 10_9_4...</td>\n",
       "      <td>Helen Reddy</td>\n",
       "    </tr>\n",
       "    <tr>\n",
       "      <th>9</th>\n",
       "      <td>2018-11-15 06:10:33.796000</td>\n",
       "      <td>80</td>\n",
       "      <td>paid</td>\n",
       "      <td>602</td>\n",
       "      <td>Portland-South Portland, ME</td>\n",
       "      <td>\"Mozilla/5.0 (Macintosh; Intel Mac OS X 10_9_4...</td>\n",
       "      <td>Taylor Swift</td>\n",
       "    </tr>\n",
       "    <tr>\n",
       "      <th>10</th>\n",
       "      <td>2018-11-15 06:13:54.796000</td>\n",
       "      <td>80</td>\n",
       "      <td>paid</td>\n",
       "      <td>602</td>\n",
       "      <td>Portland-South Portland, ME</td>\n",
       "      <td>\"Mozilla/5.0 (Macintosh; Intel Mac OS X 10_9_4...</td>\n",
       "      <td>Sean Paul</td>\n",
       "    </tr>\n",
       "    <tr>\n",
       "      <th>11</th>\n",
       "      <td>2018-11-15 06:14:16.796000</td>\n",
       "      <td>15</td>\n",
       "      <td>paid</td>\n",
       "      <td>582</td>\n",
       "      <td>Chicago-Naperville-Elgin, IL-IN-WI</td>\n",
       "      <td>\"Mozilla/5.0 (X11; Linux x86_64) AppleWebKit/5...</td>\n",
       "      <td>Soundgarden</td>\n",
       "    </tr>\n",
       "    <tr>\n",
       "      <th>12</th>\n",
       "      <td>2018-11-15 06:17:59.796000</td>\n",
       "      <td>80</td>\n",
       "      <td>paid</td>\n",
       "      <td>602</td>\n",
       "      <td>Portland-South Portland, ME</td>\n",
       "      <td>\"Mozilla/5.0 (Macintosh; Intel Mac OS X 10_9_4...</td>\n",
       "      <td>The Killers</td>\n",
       "    </tr>\n",
       "    <tr>\n",
       "      <th>13</th>\n",
       "      <td>2018-11-15 06:18:48.796000</td>\n",
       "      <td>15</td>\n",
       "      <td>paid</td>\n",
       "      <td>582</td>\n",
       "      <td>Chicago-Naperville-Elgin, IL-IN-WI</td>\n",
       "      <td>\"Mozilla/5.0 (X11; Linux x86_64) AppleWebKit/5...</td>\n",
       "      <td>Amy Winehouse</td>\n",
       "    </tr>\n",
       "    <tr>\n",
       "      <th>14</th>\n",
       "      <td>2018-11-15 06:21:33.796000</td>\n",
       "      <td>15</td>\n",
       "      <td>paid</td>\n",
       "      <td>582</td>\n",
       "      <td>Chicago-Naperville-Elgin, IL-IN-WI</td>\n",
       "      <td>\"Mozilla/5.0 (X11; Linux x86_64) AppleWebKit/5...</td>\n",
       "      <td>Steve Anderson</td>\n",
       "    </tr>\n",
       "  </tbody>\n",
       "</table>\n",
       "</div>"
      ],
      "text/plain": [
       "                    start_time userId level  sessionId  \\\n",
       "0   2018-11-15 00:30:26.796000     26  free        583   \n",
       "1   2018-11-15 00:41:21.796000     26  free        583   \n",
       "2   2018-11-15 00:45:41.796000     26  free        583   \n",
       "3   2018-11-15 03:44:09.796000     61  free        597   \n",
       "4   2018-11-15 05:48:55.796000     80  paid        602   \n",
       "5   2018-11-15 05:53:44.796000     80  paid        602   \n",
       "6   2018-11-15 05:55:56.796000     80  paid        602   \n",
       "7   2018-11-15 06:01:02.796000     80  paid        602   \n",
       "8   2018-11-15 06:07:37.796000     80  paid        602   \n",
       "9   2018-11-15 06:10:33.796000     80  paid        602   \n",
       "10  2018-11-15 06:13:54.796000     80  paid        602   \n",
       "11  2018-11-15 06:14:16.796000     15  paid        582   \n",
       "12  2018-11-15 06:17:59.796000     80  paid        602   \n",
       "13  2018-11-15 06:18:48.796000     15  paid        582   \n",
       "14  2018-11-15 06:21:33.796000     15  paid        582   \n",
       "\n",
       "                                location  \\\n",
       "0     San Jose-Sunnyvale-Santa Clara, CA   \n",
       "1     San Jose-Sunnyvale-Santa Clara, CA   \n",
       "2     San Jose-Sunnyvale-Santa Clara, CA   \n",
       "3   Houston-The Woodlands-Sugar Land, TX   \n",
       "4            Portland-South Portland, ME   \n",
       "5            Portland-South Portland, ME   \n",
       "6            Portland-South Portland, ME   \n",
       "7            Portland-South Portland, ME   \n",
       "8            Portland-South Portland, ME   \n",
       "9            Portland-South Portland, ME   \n",
       "10           Portland-South Portland, ME   \n",
       "11    Chicago-Naperville-Elgin, IL-IN-WI   \n",
       "12           Portland-South Portland, ME   \n",
       "13    Chicago-Naperville-Elgin, IL-IN-WI   \n",
       "14    Chicago-Naperville-Elgin, IL-IN-WI   \n",
       "\n",
       "                                            userAgent  \\\n",
       "0   \"Mozilla/5.0 (X11; Linux x86_64) AppleWebKit/5...   \n",
       "1   \"Mozilla/5.0 (X11; Linux x86_64) AppleWebKit/5...   \n",
       "2   \"Mozilla/5.0 (X11; Linux x86_64) AppleWebKit/5...   \n",
       "3   \"Mozilla/5.0 (Macintosh; Intel Mac OS X 10_9_4...   \n",
       "4   \"Mozilla/5.0 (Macintosh; Intel Mac OS X 10_9_4...   \n",
       "5   \"Mozilla/5.0 (Macintosh; Intel Mac OS X 10_9_4...   \n",
       "6   \"Mozilla/5.0 (Macintosh; Intel Mac OS X 10_9_4...   \n",
       "7   \"Mozilla/5.0 (Macintosh; Intel Mac OS X 10_9_4...   \n",
       "8   \"Mozilla/5.0 (Macintosh; Intel Mac OS X 10_9_4...   \n",
       "9   \"Mozilla/5.0 (Macintosh; Intel Mac OS X 10_9_4...   \n",
       "10  \"Mozilla/5.0 (Macintosh; Intel Mac OS X 10_9_4...   \n",
       "11  \"Mozilla/5.0 (X11; Linux x86_64) AppleWebKit/5...   \n",
       "12  \"Mozilla/5.0 (Macintosh; Intel Mac OS X 10_9_4...   \n",
       "13  \"Mozilla/5.0 (X11; Linux x86_64) AppleWebKit/5...   \n",
       "14  \"Mozilla/5.0 (X11; Linux x86_64) AppleWebKit/5...   \n",
       "\n",
       "                           artist_name  \n",
       "0                             Harmonia  \n",
       "1                          The Prodigy  \n",
       "2                                Train  \n",
       "3                          Sony Wonder  \n",
       "4                            Van Halen  \n",
       "5                            Magic Sam  \n",
       "6   Edward Sharpe & The Magnetic Zeros  \n",
       "7            Usher featuring will.i.am  \n",
       "8                          Helen Reddy  \n",
       "9                         Taylor Swift  \n",
       "10                           Sean Paul  \n",
       "11                         Soundgarden  \n",
       "12                         The Killers  \n",
       "13                       Amy Winehouse  \n",
       "14                      Steve Anderson  "
      ]
     },
     "execution_count": 50,
     "metadata": {},
     "output_type": "execute_result"
    }
   ],
   "source": [
    "log.limit(15).toPandas()"
   ]
  },
  {
   "cell_type": "code",
   "execution_count": 45,
   "metadata": {
    "editable": true
   },
   "outputs": [],
   "source": [
    "full = log.join(song,on='artist_name',how='inner')"
   ]
  },
  {
   "cell_type": "code",
   "execution_count": 60,
   "metadata": {
    "editable": true
   },
   "outputs": [],
   "source": [
    "full = full.withColumn('id',F.monotonically_increasing_id())\\\n",
    ".withColumn('month',F.month('start_time'))\\\n",
    ".withColumn('year',F.year('start_time'))"
   ]
  },
  {
   "cell_type": "code",
   "execution_count": 49,
   "metadata": {
    "editable": true
   },
   "outputs": [],
   "source": [
    "full = full.withColumn('month',F.month('start_time'))"
   ]
  },
  {
   "cell_type": "code",
   "execution_count": null,
   "metadata": {
    "editable": true
   },
   "outputs": [],
   "source": [
    "#song_data = song_data.withColumn('id',F.monotonically_increasing_id())"
   ]
  },
  {
   "cell_type": "code",
   "execution_count": 62,
   "metadata": {
    "editable": true
   },
   "outputs": [],
   "source": [
    "full.write.parquet(path='data/songplays_table',partitionBy=['year' ,'month'],mode='overwrite')"
   ]
  },
  {
   "cell_type": "code",
   "execution_count": 61,
   "metadata": {
    "editable": true
   },
   "outputs": [
    {
     "data": {
      "text/html": [
       "<div>\n",
       "<style scoped>\n",
       "    .dataframe tbody tr th:only-of-type {\n",
       "        vertical-align: middle;\n",
       "    }\n",
       "\n",
       "    .dataframe tbody tr th {\n",
       "        vertical-align: top;\n",
       "    }\n",
       "\n",
       "    .dataframe thead th {\n",
       "        text-align: right;\n",
       "    }\n",
       "</style>\n",
       "<table border=\"1\" class=\"dataframe\">\n",
       "  <thead>\n",
       "    <tr style=\"text-align: right;\">\n",
       "      <th></th>\n",
       "      <th>artist_name</th>\n",
       "      <th>start_time</th>\n",
       "      <th>userId</th>\n",
       "      <th>level</th>\n",
       "      <th>sessionId</th>\n",
       "      <th>location</th>\n",
       "      <th>userAgent</th>\n",
       "      <th>song_id</th>\n",
       "      <th>artist_id</th>\n",
       "      <th>id</th>\n",
       "      <th>month</th>\n",
       "      <th>year</th>\n",
       "    </tr>\n",
       "  </thead>\n",
       "  <tbody>\n",
       "    <tr>\n",
       "      <th>0</th>\n",
       "      <td>Lupe Fiasco</td>\n",
       "      <td>2018-11-14 13:11:26.796000</td>\n",
       "      <td>34</td>\n",
       "      <td>free</td>\n",
       "      <td>495</td>\n",
       "      <td>Milwaukee-Waukesha-West Allis, WI</td>\n",
       "      <td>Mozilla/5.0 (Macintosh; Intel Mac OS X 10.9; r...</td>\n",
       "      <td>SOWQTQZ12A58A7B63E</td>\n",
       "      <td>ARPFHN61187FB575F6</td>\n",
       "      <td>0</td>\n",
       "      <td>11</td>\n",
       "      <td>2018</td>\n",
       "    </tr>\n",
       "    <tr>\n",
       "      <th>1</th>\n",
       "      <td>Gwen Stefani</td>\n",
       "      <td>2018-11-14 20:16:39.796000</td>\n",
       "      <td>101</td>\n",
       "      <td>free</td>\n",
       "      <td>603</td>\n",
       "      <td>New Orleans-Metairie, LA</td>\n",
       "      <td>\"Mozilla/5.0 (Windows NT 6.3; WOW64) AppleWebK...</td>\n",
       "      <td>SORRZGD12A6310DBC3</td>\n",
       "      <td>ARVBRGZ1187FB4675A</td>\n",
       "      <td>1</td>\n",
       "      <td>11</td>\n",
       "      <td>2018</td>\n",
       "    </tr>\n",
       "    <tr>\n",
       "      <th>2</th>\n",
       "      <td>Lupe Fiasco</td>\n",
       "      <td>2018-11-28 23:22:57.796000</td>\n",
       "      <td>24</td>\n",
       "      <td>paid</td>\n",
       "      <td>984</td>\n",
       "      <td>Lake Havasu City-Kingman, AZ</td>\n",
       "      <td>\"Mozilla/5.0 (Windows NT 6.1; WOW64) AppleWebK...</td>\n",
       "      <td>SOWQTQZ12A58A7B63E</td>\n",
       "      <td>ARPFHN61187FB575F6</td>\n",
       "      <td>2</td>\n",
       "      <td>11</td>\n",
       "      <td>2018</td>\n",
       "    </tr>\n",
       "    <tr>\n",
       "      <th>3</th>\n",
       "      <td>Sophie B. Hawkins</td>\n",
       "      <td>2018-11-24 03:48:21.796000</td>\n",
       "      <td>88</td>\n",
       "      <td>paid</td>\n",
       "      <td>888</td>\n",
       "      <td>Sacramento--Roseville--Arden-Arcade, CA</td>\n",
       "      <td>\"Mozilla/5.0 (Macintosh; Intel Mac OS X 10_9_4...</td>\n",
       "      <td>SONWXQJ12A8C134D94</td>\n",
       "      <td>ARNF6401187FB57032</td>\n",
       "      <td>3</td>\n",
       "      <td>11</td>\n",
       "      <td>2018</td>\n",
       "    </tr>\n",
       "    <tr>\n",
       "      <th>4</th>\n",
       "      <td>Lupe Fiasco</td>\n",
       "      <td>2018-11-06 16:04:44.796000</td>\n",
       "      <td>2</td>\n",
       "      <td>free</td>\n",
       "      <td>126</td>\n",
       "      <td>Plymouth, IN</td>\n",
       "      <td>\"Mozilla/5.0 (Windows NT 6.1; WOW64) AppleWebK...</td>\n",
       "      <td>SOWQTQZ12A58A7B63E</td>\n",
       "      <td>ARPFHN61187FB575F6</td>\n",
       "      <td>4</td>\n",
       "      <td>11</td>\n",
       "      <td>2018</td>\n",
       "    </tr>\n",
       "    <tr>\n",
       "      <th>5</th>\n",
       "      <td>Lupe Fiasco</td>\n",
       "      <td>2018-11-06 18:34:31.796000</td>\n",
       "      <td>97</td>\n",
       "      <td>paid</td>\n",
       "      <td>293</td>\n",
       "      <td>Lansing-East Lansing, MI</td>\n",
       "      <td>\"Mozilla/5.0 (X11; Linux x86_64) AppleWebKit/5...</td>\n",
       "      <td>SOWQTQZ12A58A7B63E</td>\n",
       "      <td>ARPFHN61187FB575F6</td>\n",
       "      <td>5</td>\n",
       "      <td>11</td>\n",
       "      <td>2018</td>\n",
       "    </tr>\n",
       "    <tr>\n",
       "      <th>6</th>\n",
       "      <td>Line Renaud</td>\n",
       "      <td>2018-11-22 20:27:18.796000</td>\n",
       "      <td>6</td>\n",
       "      <td>free</td>\n",
       "      <td>763</td>\n",
       "      <td>Atlanta-Sandy Springs-Roswell, GA</td>\n",
       "      <td>Mozilla/5.0 (Windows NT 6.1; WOW64; rv:32.0) G...</td>\n",
       "      <td>SOUPIRU12A6D4FA1E1</td>\n",
       "      <td>ARJIE2Y1187B994AB7</td>\n",
       "      <td>6</td>\n",
       "      <td>11</td>\n",
       "      <td>2018</td>\n",
       "    </tr>\n",
       "    <tr>\n",
       "      <th>7</th>\n",
       "      <td>Lupe Fiasco</td>\n",
       "      <td>2018-11-10 07:47:51.796000</td>\n",
       "      <td>44</td>\n",
       "      <td>paid</td>\n",
       "      <td>350</td>\n",
       "      <td>Waterloo-Cedar Falls, IA</td>\n",
       "      <td>Mozilla/5.0 (Macintosh; Intel Mac OS X 10.9; r...</td>\n",
       "      <td>SOWQTQZ12A58A7B63E</td>\n",
       "      <td>ARPFHN61187FB575F6</td>\n",
       "      <td>7</td>\n",
       "      <td>11</td>\n",
       "      <td>2018</td>\n",
       "    </tr>\n",
       "  </tbody>\n",
       "</table>\n",
       "</div>"
      ],
      "text/plain": [
       "         artist_name                  start_time userId level  sessionId  \\\n",
       "0        Lupe Fiasco  2018-11-14 13:11:26.796000     34  free        495   \n",
       "1       Gwen Stefani  2018-11-14 20:16:39.796000    101  free        603   \n",
       "2        Lupe Fiasco  2018-11-28 23:22:57.796000     24  paid        984   \n",
       "3  Sophie B. Hawkins  2018-11-24 03:48:21.796000     88  paid        888   \n",
       "4        Lupe Fiasco  2018-11-06 16:04:44.796000      2  free        126   \n",
       "5        Lupe Fiasco  2018-11-06 18:34:31.796000     97  paid        293   \n",
       "6        Line Renaud  2018-11-22 20:27:18.796000      6  free        763   \n",
       "7        Lupe Fiasco  2018-11-10 07:47:51.796000     44  paid        350   \n",
       "\n",
       "                                  location  \\\n",
       "0        Milwaukee-Waukesha-West Allis, WI   \n",
       "1                 New Orleans-Metairie, LA   \n",
       "2             Lake Havasu City-Kingman, AZ   \n",
       "3  Sacramento--Roseville--Arden-Arcade, CA   \n",
       "4                             Plymouth, IN   \n",
       "5                 Lansing-East Lansing, MI   \n",
       "6        Atlanta-Sandy Springs-Roswell, GA   \n",
       "7                 Waterloo-Cedar Falls, IA   \n",
       "\n",
       "                                           userAgent             song_id  \\\n",
       "0  Mozilla/5.0 (Macintosh; Intel Mac OS X 10.9; r...  SOWQTQZ12A58A7B63E   \n",
       "1  \"Mozilla/5.0 (Windows NT 6.3; WOW64) AppleWebK...  SORRZGD12A6310DBC3   \n",
       "2  \"Mozilla/5.0 (Windows NT 6.1; WOW64) AppleWebK...  SOWQTQZ12A58A7B63E   \n",
       "3  \"Mozilla/5.0 (Macintosh; Intel Mac OS X 10_9_4...  SONWXQJ12A8C134D94   \n",
       "4  \"Mozilla/5.0 (Windows NT 6.1; WOW64) AppleWebK...  SOWQTQZ12A58A7B63E   \n",
       "5  \"Mozilla/5.0 (X11; Linux x86_64) AppleWebKit/5...  SOWQTQZ12A58A7B63E   \n",
       "6  Mozilla/5.0 (Windows NT 6.1; WOW64; rv:32.0) G...  SOUPIRU12A6D4FA1E1   \n",
       "7  Mozilla/5.0 (Macintosh; Intel Mac OS X 10.9; r...  SOWQTQZ12A58A7B63E   \n",
       "\n",
       "            artist_id  id  month  year  \n",
       "0  ARPFHN61187FB575F6   0     11  2018  \n",
       "1  ARVBRGZ1187FB4675A   1     11  2018  \n",
       "2  ARPFHN61187FB575F6   2     11  2018  \n",
       "3  ARNF6401187FB57032   3     11  2018  \n",
       "4  ARPFHN61187FB575F6   4     11  2018  \n",
       "5  ARPFHN61187FB575F6   5     11  2018  \n",
       "6  ARJIE2Y1187B994AB7   6     11  2018  \n",
       "7  ARPFHN61187FB575F6   7     11  2018  "
      ]
     },
     "execution_count": 61,
     "metadata": {},
     "output_type": "execute_result"
    }
   ],
   "source": [
    "full.limit(15).toPandas()"
   ]
  },
  {
   "cell_type": "code",
   "execution_count": 117,
   "metadata": {
    "editable": true
   },
   "outputs": [
    {
     "data": {
      "text/plain": [
       "['userId',\n",
       " 'level',\n",
       " 'sessionId',\n",
       " 'location',\n",
       " 'userAgent',\n",
       " 'artist_id',\n",
       " 'song_id',\n",
       " 'artist_id']"
      ]
     },
     "execution_count": 117,
     "metadata": {},
     "output_type": "execute_result"
    }
   ],
   "source": [
    "full.columns"
   ]
  }
 ],
 "metadata": {
  "kernelspec": {
   "display_name": "Python 3",
   "language": "python",
   "name": "python3"
  },
  "language_info": {
   "codemirror_mode": {
    "name": "ipython",
    "version": 3
   },
   "file_extension": ".py",
   "mimetype": "text/x-python",
   "name": "python",
   "nbconvert_exporter": "python",
   "pygments_lexer": "ipython3",
   "version": "3.6.3"
  }
 },
 "nbformat": 4,
 "nbformat_minor": 4
}
